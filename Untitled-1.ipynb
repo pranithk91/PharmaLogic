{
 "cells": [
  {
   "cell_type": "code",
   "execution_count": 1,
   "metadata": {},
   "outputs": [
    {
     "name": "stdout",
     "output_type": "stream",
     "text": [
      "Connected to MySQL database\n",
      "SELECT * FROM vw_getPharmacyDetails WHERE InvoiceId = 'PM2436501'\n"
     ]
    },
    {
     "data": {
      "text/plain": [
       "[('PM2436501',\n",
       "  datetime.date(2024, 12, 30),\n",
       "  None,\n",
       "  'LuliNeo-XL',\n",
       "  1,\n",
       "  'Cream',\n",
       "  Decimal('499'),\n",
       "  12)]"
      ]
     },
     "execution_count": 1,
     "metadata": {},
     "output_type": "execute_result"
    },
    {
     "ename": "",
     "evalue": "",
     "output_type": "error",
     "traceback": [
      "\u001b[1;31mThe Kernel crashed while executing code in the current cell or a previous cell. \n",
      "\u001b[1;31mPlease review the code in the cell(s) to identify a possible cause of the failure. \n",
      "\u001b[1;31mClick <a href='https://aka.ms/vscodeJupyterKernelCrash'>here</a> for more info. \n",
      "\u001b[1;31mView Jupyter <a href='command:jupyter.viewOutput'>log</a> for further details."
     ]
    }
   ],
   "source": [
    "from database import selectTable\n",
    "billNo = 'PM2436501'\n",
    "rowsWithBillNo = selectTable('vw_getPharmacyDetails', condition=f\"InvoiceId = '{billNo}'\" )\n",
    "rowsWithBillNo"
   ]
  },
  {
   "cell_type": "code",
   "execution_count": 1,
   "metadata": {},
   "outputs": [],
   "source": [
    "import tkinter as tk\n",
    "from tkinter import ttk\n",
    "\n",
    "def create_treeview():\n",
    "    # Create the main window\n",
    "    root = tk.Tk()\n",
    "    root.title(\"Treeview Font Size Example\")\n",
    "    root.geometry(\"600x400\")\n",
    "\n",
    "    # Configure the style for the Treeview\n",
    "    style = ttk.Style()\n",
    "    style.configure(\"Custom.Treeview\", font=(\"Helvetica\", 18))  # Set font size to 14\n",
    "    style.configure(\"Custom.Treeview.Heading\", font=(\"Helvetica\", 16, \"bold\"))  # Set font size for headings\n",
    "\n",
    "    # Create a Treeview widget with the custom style\n",
    "    tree = ttk.Treeview(root, style=\"Custom.Treeview\", columns=(\"col1\", \"col2\"), show=\"headings\")\n",
    "    tree.heading(\"col1\", text=\"Column 1\")\n",
    "    tree.heading(\"col2\", text=\"Column 2\")\n",
    "    tree.column(\"col1\", width=200, anchor=\"center\")\n",
    "    tree.column(\"col2\", width=200, anchor=\"center\")\n",
    "\n",
    "    # Add some rows\n",
    "    for i in range(10):\n",
    "        tree.insert(\"\", \"end\", values=(f\"Row {i+1} Col 1\", f\"Row {i+1} Col 2\"))\n",
    "\n",
    "    tree.pack(padx=10, pady=10, fill=\"both\", expand=True)\n",
    "\n",
    "    # Run the Tkinter main loop\n",
    "    root.mainloop()\n",
    "\n",
    "# Create the Treeview with the larger font size\n",
    "create_treeview()\n"
   ]
  },
  {
   "cell_type": "code",
   "execution_count": 3,
   "metadata": {},
   "outputs": [],
   "source": [
    "from customtkinter import *\n",
    "import tkinter as tk\n",
    "from tkinter import ttk\n",
    "import ttkbootstrap as tkb\n",
    "\n",
    "class pharmacyViewFrame(ttk.Frame):\n",
    "    def __init__(self, master=None):\n",
    "        super().__init__(master, width=950, height=850, relief=tk.GROOVE)\n",
    "        self.pack_propagate(0)\n",
    "        self.grid(column=1, row=0, padx=(30, 30), pady=(10, 10))\n",
    "\n",
    "        self.billTableFrame = ttk.Frame(master=self)\n",
    "        self.billTableFrame.pack(expand=True, fill=\"both\", padx=27, pady=21)\n",
    "\n",
    "        # Configure the Treeview style\n",
    "        style = ttk.Style()\n",
    "        #style.theme_use(\"default\")  # Ensure the theme supports custom styles\n",
    "        style.configure(\"Custom.Treeview\", font=(\"Helvetica\", 18), rowheight=35)  # Set row font size and height\n",
    "        style.configure(\"Custom.Treeview.Heading\", font=(\"Helvetica\", 26, \"bold\"))  # Set heading font size\n",
    "\n",
    "        # Create the Treeview\n",
    "        self.billTable = ttk.Treeview(\n",
    "            master=self.billTableFrame,\n",
    "            columns=[\"Time Stamp\", \"Patient Name\", \"Med Name\", \"MRP\", \"Quantity\", \"Med Total\", \"PaymentMode\", \"Bill Amount\"],\n",
    "            show=\"headings\",\n",
    "            selectmode=\"extended\",\n",
    "            style=\"Custom.Treeview\",  # Apply the custom style\n",
    "        )\n",
    "\n",
    "        # Configure headings and columns\n",
    "        for col in [\"Time Stamp\", \"Patient Name\", \"Med Name\", \"MRP\", \"Quantity\", \"Med Total\", \"PaymentMode\", \"Bill Amount\"]:\n",
    "            self.billTable.heading(col, text=col, anchor=tk.W)\n",
    "            self.billTable.column(col, width=150, anchor=tk.W)  # Adjust width for better readability\n",
    "\n",
    "        # Pack the Treeview\n",
    "        self.billTable.pack(expand=True, fill=\"both\", pady=(10, 0))\n",
    "        \n",
    "        self.billTotalLabel = ttk.Label(master=self.billTableFrame, text=\"Bill Total: 0\",\n",
    "                                       font=(\"Calibri\", 15, \"bold\"), \n",
    "                                        style=\"successTLabel.\"\n",
    "                                        )\n",
    "        self.billTotalLabel.pack(anchor=\"ne\", side=\"right\",pady=(20,0))\n",
    "\n",
    "\n",
    "# Create the main Tkinter application\n",
    "root = tk.Tk()\n",
    "root.title(\"Pharmacy View\")\n",
    "root.geometry(\"1000x900\")  # Adjust window size\n",
    "\n",
    "# Initialize and display the custom frame\n",
    "obj = pharmacyViewFrame(root)\n",
    "root.mainloop()\n"
   ]
  },
  {
   "cell_type": "code",
   "execution_count": null,
   "metadata": {},
   "outputs": [],
   "source": []
  },
  {
   "cell_type": "code",
   "execution_count": 4,
   "metadata": {},
   "outputs": [],
   "source": [
    "import ttkbootstrap as ttk\n",
    "from ttkbootstrap.constants import *\n",
    "\n",
    "class PharmacyView(ttk.Frame):\n",
    "    def __init__(self, master=None):\n",
    "        super().__init__(master, width=950, height=850, padding=20)\n",
    "        self.pack(expand=True, fill=\"both\")\n",
    "\n",
    "        # Treeview Frame\n",
    "        self.bill_table_frame = ttk.Frame(self)\n",
    "        self.bill_table_frame.pack(expand=True, fill=\"both\")\n",
    "\n",
    "        # Style the Treeview\n",
    "        style = ttk.Style()\n",
    "        style.theme_use(\"darkly\")  # Set a modern theme like 'darkly' or 'flatly'\n",
    "        style.configure(\"Treeview\", font=(\"Helvetica\", 14), rowheight=35)  # Row font and height\n",
    "        style.configure(\"Treeview.Heading\", font=(\"Helvetica\", 26, \"bold\"))  # Heading font\n",
    "\n",
    "        # Create the Treeview\n",
    "        self.bill_table = ttk.Treeview(\n",
    "            self.bill_table_frame,\n",
    "            columns=[\"Time Stamp\", \"Patient Name\", \"Med Name\", \"MRP\", \"Quantity\", \"Med Total\", \"PaymentMode\", \"Bill Amount\"],\n",
    "            show=\"headings\",\n",
    "        )\n",
    "\n",
    "        # Configure headings and columns\n",
    "        for col in [\"Time Stamp\", \"Patient Name\", \"Med Name\", \"MRP\", \"Quantity\", \"Med Total\", \"PaymentMode\", \"Bill Amount\"]:\n",
    "            self.bill_table.heading(col, text=col, anchor=W)\n",
    "            self.bill_table.column(col, width=150, anchor=W)\n",
    "\n",
    "        # Pack the Treeview\n",
    "        self.bill_table.pack(expand=True, fill=\"both\", pady=10)\n",
    "\n",
    "\n",
    "# Main Application\n",
    "if __name__ == \"__main__\":\n",
    "    app = ttk.Window(themename=\"superhero\")  # Create a ttkbootstrap window with a specific theme\n",
    "    app.title(\"Pharmacy View\")\n",
    "    app.geometry(\"1000x900\")\n",
    "\n",
    "    pharmacy_view = PharmacyView(app)\n",
    "    app.mainloop()\n"
   ]
  }
 ],
 "metadata": {
  "kernelspec": {
   "display_name": "Python 3",
   "language": "python",
   "name": "python3"
  },
  "language_info": {
   "codemirror_mode": {
    "name": "ipython",
    "version": 3
   },
   "file_extension": ".py",
   "mimetype": "text/x-python",
   "name": "python",
   "nbconvert_exporter": "python",
   "pygments_lexer": "ipython3",
   "version": "3.10.11"
  }
 },
 "nbformat": 4,
 "nbformat_minor": 2
}
